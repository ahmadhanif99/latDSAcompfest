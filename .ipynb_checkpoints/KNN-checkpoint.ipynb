{
 "cells": [
  {
   "cell_type": "code",
   "execution_count": 103,
   "metadata": {},
   "outputs": [],
   "source": [
    "import math\n",
    "def EuclidianDistance(x1, x2):\n",
    "    return math.sqrt((x1[0]-x2[0])**2+(x1[1]-x2[1])**2)    "
   ]
  },
  {
   "cell_type": "code",
   "execution_count": 189,
   "metadata": {},
   "outputs": [
    {
     "name": "stdout",
     "output_type": "stream",
     "text": [
      "How many unknown? \n",
      "1\n",
      "Input the unknown point\n",
      "4 2\n",
      "How many known? \n",
      "14\n",
      "How many K? \n",
      "4\n",
      "input the known point\n",
      "1 1 a\n",
      "2 1 a\n",
      "3 1 b\n",
      "4 1 b\n",
      "5 1 b\n",
      "1 2 a\n",
      "2 2 a\n",
      "3 2 a\n",
      "5 2 b\n",
      "1 3 a\n",
      "2 3 a\n",
      "3 3 b\n",
      "4 3 b\n",
      "5 3 b\n"
     ]
    }
   ],
   "source": [
    "def add_point_1(unknown, i, x, y):\n",
    "    unknown[i][0]= x\n",
    "    unknown[i][1] = y\n",
    "    return unknown\n",
    "\n",
    "def add_point_2(know, i, x, y, z):\n",
    "    know[i][0] = x\n",
    "    know[i][1] = y\n",
    "    know[i][2] = z\n",
    "    return know\n",
    "\n",
    "print(\"How many unknown? \")\n",
    "M = int(input())\n",
    "unkown =[[0]*2 for _ in range(M)]\n",
    "print(\"Input the unknown point\")\n",
    "for i in range(0,M):\n",
    "    x, y = map(int, input().split())\n",
    "    unkown = add_point_1(unkown, i, x, y)\n",
    "    \n",
    "print(\"How many known? \")\n",
    "N = int(input())\n",
    "print(\"How many K? \")\n",
    "K = int(input())\n",
    "\n",
    "known = [[0]*3 for _ in range(N)]\n",
    "print(\"input the known point\")\n",
    "for i in range(0,N):\n",
    "    x, y, z = input().split()\n",
    "    x = int(x)\n",
    "    y = int(y)\n",
    "    z = z.upper()\n",
    "    known = add_point_2(known, i, x, y, z)"
   ]
  },
  {
   "cell_type": "code",
   "execution_count": 192,
   "metadata": {},
   "outputs": [],
   "source": [
    "import operator\n",
    "import collections\n",
    "z = [[0]*4 for _ in range(M)]\n",
    "for j in range(M):\n",
    "    distance = {}\n",
    "    for i in range(N):\n",
    "        distance.update({i : EuclidianDistance(known[i], unkown[j])})\n",
    "    distance = sorted(distance.items(), key=operator.itemgetter(1))\n",
    "    for l in range(K):\n",
    "        try:\n",
    "            z[j][l] = distance[l][0]\n",
    "        except IndexError:\n",
    "            pass"
   ]
  },
  {
   "cell_type": "code",
   "execution_count": 208,
   "metadata": {},
   "outputs": [],
   "source": [
    "def mostoccurance(index):\n",
    "    counter = {\"A\": 0,\n",
    "         \"B\": 0}\n",
    "    for i in index:\n",
    "        if known[i][2] == \"A\":\n",
    "            counter[\"A\"] += 1\n",
    "        elif known[i][2] == \"B\":\n",
    "            counter[\"B\"] += 1\n",
    "    return max(counter.items(), key=operator.itemgetter(1))[0]"
   ]
  },
  {
   "cell_type": "code",
   "execution_count": 215,
   "metadata": {},
   "outputs": [
    {
     "name": "stdout",
     "output_type": "stream",
     "text": [
      "B\n"
     ]
    }
   ],
   "source": [
    "for m in range(M):\n",
    "    print(mostoccurance(z[m]))"
   ]
  }
 ],
 "metadata": {
  "kernelspec": {
   "display_name": "Python 3",
   "language": "python",
   "name": "python3"
  },
  "language_info": {
   "codemirror_mode": {
    "name": "ipython",
    "version": 3
   },
   "file_extension": ".py",
   "mimetype": "text/x-python",
   "name": "python",
   "nbconvert_exporter": "python",
   "pygments_lexer": "ipython3",
   "version": "3.6.7"
  }
 },
 "nbformat": 4,
 "nbformat_minor": 2
}
