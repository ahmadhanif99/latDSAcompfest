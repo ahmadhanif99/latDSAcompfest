{
 "cells": [
  {
   "cell_type": "code",
   "execution_count": 28,
   "metadata": {},
   "outputs": [],
   "source": [
    "def mean(lst):\n",
    "    sigma = 0\n",
    "    for i in lst:\n",
    "        sigma = sigma + i\n",
    "    return sigma/len(lst)\n",
    "\n",
    "def median(lst):\n",
    "    lst.sort()\n",
    "    lst_sorted = lst\n",
    "    middle = (len(lst_sorted)-1)//2\n",
    "    if len(lst_sorted)%2 != 0:\n",
    "        return lst_sorted[middle]\n",
    "    else:\n",
    "        return (lst_sorted[middle]+lst_sorted[middle+1])/2.0"
   ]
  },
  {
   "cell_type": "code",
   "execution_count": 7,
   "metadata": {},
   "outputs": [
    {
     "name": "stdout",
     "output_type": "stream",
     "text": [
      "How much N?\n",
      "5\n",
      "Masukan data :\n",
      "160\n",
      "161\n",
      "168\n",
      "172\n",
      "173\n"
     ]
    }
   ],
   "source": [
    "print(\"How much N?\")\n",
    "n = int(input())\n",
    "lst = []\n",
    "print(\"Masukan data :\")\n",
    "for i in range(n):\n",
    "    x= int(input())\n",
    "    lst.append(x)\n"
   ]
  },
  {
   "cell_type": "code",
   "execution_count": 29,
   "metadata": {},
   "outputs": [
    {
     "name": "stdout",
     "output_type": "stream",
     "text": [
      "166.8 168\n",
      "HIGHER\n"
     ]
    }
   ],
   "source": [
    "print(str(mean(lst))+\" \"+str(median(lst)))\n",
    "if median(lst)>mean(lst):\n",
    "    print(\"HIGHER\")\n",
    "elif meadian(lst)<mean(lst):\n",
    "    print(\"LOWER\")\n",
    "else:\n",
    "    print(\"EQUAL\")"
   ]
  }
 ],
 "metadata": {
  "kernelspec": {
   "display_name": "Python 3",
   "language": "python",
   "name": "python3"
  },
  "language_info": {
   "codemirror_mode": {
    "name": "ipython",
    "version": 3
   },
   "file_extension": ".py",
   "mimetype": "text/x-python",
   "name": "python",
   "nbconvert_exporter": "python",
   "pygments_lexer": "ipython3",
   "version": "3.6.7"
  }
 },
 "nbformat": 4,
 "nbformat_minor": 2
}
