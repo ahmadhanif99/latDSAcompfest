{
 "cells": [
  {
   "cell_type": "code",
   "execution_count": 89,
   "metadata": {},
   "outputs": [],
   "source": [
    "def calculate_free_bottle(num):\n",
    "    num_of_free = 0\n",
    "    counter = 0\n",
    "    while((num > 0) & (counter>= 0)):\n",
    "        if num >= 5:\n",
    "            num_of_free += 1\n",
    "            counter += 1\n",
    "            \n",
    "        if counter>=5:\n",
    "            num_of_free += 1\n",
    "            counter -=5\n",
    "            \n",
    "        num = num-5\n",
    "\n",
    "    return num_of_free"
   ]
  },
  {
   "cell_type": "code",
   "execution_count": 90,
   "metadata": {},
   "outputs": [
    {
     "name": "stdout",
     "output_type": "stream",
     "text": [
      "5\n",
      "1\n"
     ]
    }
   ],
   "source": [
    "num = int(input())\n",
    "print(calculate_free_bottle(num))"
   ]
  }
 ],
 "metadata": {
  "kernelspec": {
   "display_name": "Python 3",
   "language": "python",
   "name": "python3"
  },
  "language_info": {
   "codemirror_mode": {
    "name": "ipython",
    "version": 3
   },
   "file_extension": ".py",
   "mimetype": "text/x-python",
   "name": "python",
   "nbconvert_exporter": "python",
   "pygments_lexer": "ipython3",
   "version": "3.6.7"
  }
 },
 "nbformat": 4,
 "nbformat_minor": 2
}
