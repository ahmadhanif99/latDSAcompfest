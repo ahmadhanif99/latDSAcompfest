{
 "cells": [
  {
   "cell_type": "code",
   "execution_count": 4,
   "metadata": {},
   "outputs": [
    {
     "name": "stdout",
     "output_type": "stream",
     "text": [
      "3\n",
      "hum 2 90 100\n",
      "ret 3 6 7\n",
      "yut 3 4 5\n"
     ]
    }
   ],
   "source": [
    "\n",
    "class Siswa:\n",
    "    def __init__(self,string):\n",
    "        lis=list(string.split())\n",
    "        self.nama = lis[0]\n",
    "        self.nilai = (int(lis[1])+int(lis[2]))*0.8+int(lis[3])*0.2\n",
    "        \n",
    "    \n",
    "n = int(input())\n",
    "lis_siswa=[]\n",
    "for _ in range(n):\n",
    "    lis_siswa.append(Siswa(input()))\n",
    "\n",
    "lis_siswa.sort(key=lambda siswa: siswa.nama)\n",
    "for _ in sorted(lis_siswa, key=lambda siswa: siswa.nilai, reverse=True):\n",
    "    print(_.nama)"
   ]
  },
  {
   "cell_type": "code",
   "execution_count": 5,
   "metadata": {},
   "outputs": [
    {
     "data": {
      "text/plain": [
       "[<__main__.Siswa at 0x1e5395db5f8>,\n",
       " <__main__.Siswa at 0x1e5395dbfd0>,\n",
       " <__main__.Siswa at 0x1e539067390>]"
      ]
     },
     "execution_count": 5,
     "metadata": {},
     "output_type": "execute_result"
    }
   ],
   "source": [
    "lis_siswa"
   ]
  },
  {
   "cell_type": "code",
   "execution_count": 6,
   "metadata": {},
   "outputs": [
    {
     "data": {
      "text/plain": [
       "'ret'"
      ]
     },
     "execution_count": 6,
     "metadata": {},
     "output_type": "execute_result"
    }
   ],
   "source": [
    "lis_siswa[1].nama"
   ]
  },
  {
   "cell_type": "code",
   "execution_count": 10,
   "metadata": {},
   "outputs": [
    {
     "data": {
      "text/plain": [
       "[<__main__.Siswa at 0x1e539287630>,\n",
       " <__main__.Siswa at 0x1e5395db5f8>,\n",
       " <__main__.Siswa at 0x1e5395dbfd0>,\n",
       " <__main__.Siswa at 0x1e539067390>]"
      ]
     },
     "execution_count": 10,
     "metadata": {},
     "output_type": "execute_result"
    }
   ],
   "source": [
    "sorted(lis_siswa, key=lambda siswa: siswa.nama)   # sort by age\n"
   ]
  },
  {
   "cell_type": "code",
   "execution_count": 19,
   "metadata": {},
   "outputs": [],
   "source": [
    "lis_siswa.append(Siswa('Hum 2 90 100'))"
   ]
  },
  {
   "cell_type": "code",
   "execution_count": 20,
   "metadata": {},
   "outputs": [],
   "source": [
    "lis_siswa.sort(key=lambda siswa: siswa.nama)"
   ]
  },
  {
   "cell_type": "code",
   "execution_count": 21,
   "metadata": {},
   "outputs": [
    {
     "name": "stdout",
     "output_type": "stream",
     "text": [
      "Hum 93.60000000000001\n",
      "hum 93.60000000000001\n",
      "asd 54.4\n",
      "ret 8.6\n",
      "yut 6.6000000000000005\n"
     ]
    }
   ],
   "source": [
    "for _ in sorted(lis_siswa, key=lambda siswa: siswa.nilai, reverse=True):\n",
    "    print(_.nama, _.nilai)"
   ]
  },
  {
   "cell_type": "code",
   "execution_count": 29,
   "metadata": {},
   "outputs": [],
   "source": [
    "def generate_primes(lis,limit):\n",
    "    lis[-1]\n",
    "    x = lis[-1] + 2\n",
    "    \n",
    "    while x <= limit+2:\n",
    "        for y in range(3,x,2):  # test all odd factors up to x-1\n",
    "            if x%y == 0:\n",
    "                x += 2\n",
    "                break\n",
    "        else:\n",
    "            lis.append(x)\n",
    "            x += 2\n",
    "    print(lis)\n",
    "    return len(lis)\n",
    "                "
   ]
  },
  {
   "cell_type": "code",
   "execution_count": 30,
   "metadata": {},
   "outputs": [
    {
     "name": "stdout",
     "output_type": "stream",
     "text": [
      "[89]\n"
     ]
    },
    {
     "data": {
      "text/plain": [
       "1"
      ]
     },
     "execution_count": 30,
     "metadata": {},
     "output_type": "execute_result"
    }
   ],
   "source": [
    "generate_primes([89],70)"
   ]
  },
  {
   "cell_type": "code",
   "execution_count": null,
   "metadata": {},
   "outputs": [],
   "source": []
  }
 ],
 "metadata": {
  "kernelspec": {
   "display_name": "Python 3",
   "language": "python",
   "name": "python3"
  },
  "language_info": {
   "codemirror_mode": {
    "name": "ipython",
    "version": 3
   },
   "file_extension": ".py",
   "mimetype": "text/x-python",
   "name": "python",
   "nbconvert_exporter": "python",
   "pygments_lexer": "ipython3",
   "version": "3.7.3"
  }
 },
 "nbformat": 4,
 "nbformat_minor": 2
}
