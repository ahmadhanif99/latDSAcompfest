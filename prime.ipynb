{
 "cells": [
  {
   "cell_type": "code",
   "execution_count": 7,
   "metadata": {},
   "outputs": [
    {
     "name": "stdout",
     "output_type": "stream",
     "text": [
      "5\n",
      "6\n",
      "4\n",
      "5\n",
      "3\n",
      "7\n",
      "no prime\n",
      "almost\n",
      "prime\n",
      "prime\n",
      "prime\n"
     ]
    }
   ],
   "source": [
    "lis_prime =[2,3]\n",
    "lis_output=[]\n",
    "\n",
    "def generate_primes(lis,limit):\n",
    "    lis[-1]\n",
    "    x = lis[-1] + 2\n",
    "    \n",
    "    while x <= limit+2:\n",
    "        for y in range(3,x,2):  # test all odd factors up to x-1\n",
    "            if x%y == 0:\n",
    "                x += 2\n",
    "                break\n",
    "        else:\n",
    "            lis.append(x)\n",
    "            x += 2\n",
    "    \n",
    "\n",
    "def convert(num,lis):\n",
    "    if num in lis:\n",
    "        return 0\n",
    "    elif num+2 in lis:\n",
    "        return 1\n",
    "    elif num-2 in lis:\n",
    "        return 1\n",
    "    else:\n",
    "        return 2\n",
    "\n",
    "\n",
    "for _ in range(int(input())):\n",
    "    a=int(input())\n",
    "    if lis_prime[-1]<a:\n",
    "        generate_primes(lis_prime,a)\n",
    "    lis_output.append(convert(a,lis_prime))\n",
    "\n",
    "for _ in lis_output:\n",
    "    if _ == 0:\n",
    "        print('prime')\n",
    "    elif _== 1:\n",
    "        print('almost')\n",
    "    else:\n",
    "        print('no prime')\n",
    "        \n",
    "    "
   ]
  },
  {
   "cell_type": "code",
   "execution_count": 6,
   "metadata": {},
   "outputs": [
    {
     "name": "stdout",
     "output_type": "stream",
     "text": [
      "[2, 3, 5, 7, 11]\n"
     ]
    }
   ],
   "source": [
    "print(lis_prime)"
   ]
  },
  {
   "cell_type": "code",
   "execution_count": null,
   "metadata": {},
   "outputs": [],
   "source": []
  }
 ],
 "metadata": {
  "kernelspec": {
   "display_name": "Python 3",
   "language": "python",
   "name": "python3"
  },
  "language_info": {
   "codemirror_mode": {
    "name": "ipython",
    "version": 3
   },
   "file_extension": ".py",
   "mimetype": "text/x-python",
   "name": "python",
   "nbconvert_exporter": "python",
   "pygments_lexer": "ipython3",
   "version": "3.7.3"
  }
 },
 "nbformat": 4,
 "nbformat_minor": 2
}
