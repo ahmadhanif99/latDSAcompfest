{
 "cells": [
  {
   "cell_type": "code",
   "execution_count": 8,
   "metadata": {},
   "outputs": [
    {
     "data": {
      "text/plain": [
       "[1, 2, 3, 4]"
      ]
     },
     "execution_count": 8,
     "metadata": {},
     "output_type": "execute_result"
    }
   ],
   "source": [
    "[i for i in range(1,5)]"
   ]
  },
  {
   "cell_type": "code",
   "execution_count": 25,
   "metadata": {},
   "outputs": [
    {
     "name": "stdout",
     "output_type": "stream",
     "text": [
      "Banyaknya booking : \n",
      "4\n",
      "1 10 3\n",
      "1 6 2\n",
      "4 6 3\n",
      "7 8 1\n"
     ]
    }
   ],
   "source": [
    "print(\"Banyaknya booking : \")\n",
    "kumpulan = []\n",
    "jumlah_booking = {}\n",
    "n = int(input())\n",
    "for i in range(n):\n",
    "    x, y, z = map(int, input().split())\n",
    "    kumpulan.append([i for i in range(x, y)])\n",
    "    jumlah_booking[i] = z"
   ]
  },
  {
   "cell_type": "code",
   "execution_count": 39,
   "metadata": {},
   "outputs": [],
   "source": [
    "maximum_num = max(map(max, kumpulan))\n",
    "minimum_num = min(map(min, kumpulan))\n",
    "counter= {}\n",
    "for j in range(minimum_num, maximum_num):\n",
    "    counter[j] = 0\n",
    "\n",
    "for i in range(minimum_num, maximum_num):\n",
    "    for j in range(n):\n",
    "        counter[i] += kumpulan[j].count(i)*jumlah_booking[j]"
   ]
  },
  {
   "cell_type": "code",
   "execution_count": 48,
   "metadata": {},
   "outputs": [
    {
     "name": "stdout",
     "output_type": "stream",
     "text": [
      "8\n",
      "[4, 5]\n"
     ]
    }
   ],
   "source": [
    "print(max(counter))\n",
    "jude = []\n",
    "for index, count in counter.items():\n",
    "    if count == max(counter):\n",
    "        jude.append(index)\n",
    "print(jude)"
   ]
  }
 ],
 "metadata": {
  "kernelspec": {
   "display_name": "Python 3",
   "language": "python",
   "name": "python3"
  },
  "language_info": {
   "codemirror_mode": {
    "name": "ipython",
    "version": 3
   },
   "file_extension": ".py",
   "mimetype": "text/x-python",
   "name": "python",
   "nbconvert_exporter": "python",
   "pygments_lexer": "ipython3",
   "version": "3.6.7"
  }
 },
 "nbformat": 4,
 "nbformat_minor": 2
}
