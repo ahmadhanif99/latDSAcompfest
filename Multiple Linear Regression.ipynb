{
 "cells": [
  {
   "cell_type": "code",
   "execution_count": 161,
   "metadata": {},
   "outputs": [],
   "source": [
    "def matmul(X, Y):\n",
    "    # no need for transposing b or a\n",
    "    # doing the matrix multiplication\n",
    "    return [[sum(a*b for a,b in zip(X_row,Y_col)) for Y_col in zip(*Y)] for X_row in X]\n",
    "def transposeMatrix(m):\n",
    "    return list(map(list,zip(*m)))\n",
    "\n",
    "def getMatrixMinor(m,i,j):\n",
    "    return [row[:j] + row[j+1:] for row in (m[:i]+m[i+1:])]\n",
    "\n",
    "def getMatrixDeternminant(m):\n",
    "    #base case for 2x2 matrix\n",
    "    if len(m) == 2:\n",
    "        return m[0][0]*m[1][1]-m[0][1]*m[1][0]\n",
    "\n",
    "    determinant = 0\n",
    "    for c in range(len(m)):\n",
    "        determinant += ((-1)**c)*m[0][c]*getMatrixDeternminant(getMatrixMinor(m,0,c))\n",
    "    return determinant\n",
    "\n",
    "def getMatrixInverse(m):\n",
    "    determinant = getMatrixDeternminant(m)\n",
    "    #special case for 2x2 matrix:\n",
    "    if len(m) == 2:\n",
    "        return [[m[1][1]/determinant, -1*m[0][1]/determinant],\n",
    "                [-1*m[1][0]/determinant, m[0][0]/determinant]]\n",
    "\n",
    "    #find matrix of cofactors\n",
    "    cofactors = []\n",
    "    for r in range(len(m)):\n",
    "        cofactorRow = []\n",
    "        for c in range(len(m)):\n",
    "            minor = getMatrixMinor(m,r,c)\n",
    "            cofactorRow.append(((-1)**(r+c)) * getMatrixDeternminant(minor))\n",
    "        cofactors.append(cofactorRow)\n",
    "    cofactors = transposeMatrix(cofactors)\n",
    "    for r in range(len(cofactors)):\n",
    "        for c in range(len(cofactors)):\n",
    "            cofactors[r][c] = cofactors[r][c]/determinant\n",
    "    return cofactors"
   ]
  },
  {
   "cell_type": "code",
   "execution_count": 11,
   "metadata": {
    "scrolled": true
   },
   "outputs": [
    {
     "name": "stdout",
     "output_type": "stream",
     "text": [
      "number of feature\n",
      "2\n",
      "number of known data\n",
      "7\n",
      "0.18 0.89 109.85\n",
      "1.0 0.26 155.72\n",
      "0.92 0.11 137.66\n",
      "0.07 0.37 76.17\n",
      "0.85 0.16 138.75\n",
      "0.99 0.41 162.6\n",
      "0.87 0.47 151.77\n",
      "\n",
      "\n",
      "number of unknown data\n",
      "4\n",
      "0.49 0.18\n",
      "0.57 0.83\n",
      "0.56 0.64\n",
      "0.76 0.18\n"
     ]
    }
   ],
   "source": [
    "# getting the data\n",
    "print(\"number of feature\")\n",
    "N = int(input())\n",
    "print(\"number of known data\")\n",
    "F = int(input())\n",
    "known_dat = [[0]*(N+1) for _ in range(F)]\n",
    "for i in range(F):\n",
    "    Z = input()\n",
    "    known_dat[i] = [float(x) for x in Z.split()]\n",
    "    assert len(known_dat[i]) == N+1\n",
    "print(\"\\n\")\n",
    "print(\"number of unknown data\")\n",
    "K = int(input())\n",
    "unknown_dat = [[0]*(N) for hiya in range(K)]\n",
    "for i in range(K):\n",
    "    Z = input()\n",
    "    unknown_dat[i] =[float(x) for x in Z.split()]\n",
    "    assert len(unknown_dat[i]) == N"
   ]
  },
  {
   "cell_type": "code",
   "execution_count": 176,
   "metadata": {},
   "outputs": [
    {
     "data": {
      "text/plain": [
       "[[0.49, 0.18], [0.57, 0.83], [0.56, 0.64], [0.76, 0.18]]"
      ]
     },
     "execution_count": 176,
     "metadata": {},
     "output_type": "execute_result"
    }
   ],
   "source": [
    "unknown_dat"
   ]
  },
  {
   "cell_type": "code",
   "execution_count": 140,
   "metadata": {},
   "outputs": [],
   "source": [
    "X = [x[:-1] for x in known_dat]\n",
    "Y = []\n",
    "Y.append([x[-1] for x in known_dat])"
   ]
  },
  {
   "cell_type": "code",
   "execution_count": 141,
   "metadata": {},
   "outputs": [],
   "source": [
    "for i in range(len(X)):\n",
    "    X[i].insert(0, 1)"
   ]
  },
  {
   "cell_type": "code",
   "execution_count": 177,
   "metadata": {},
   "outputs": [],
   "source": [
    "for i in range(len(unknown_dat)):\n",
    "    unknown_dat[i].insert(0,1)"
   ]
  },
  {
   "cell_type": "code",
   "execution_count": 123,
   "metadata": {},
   "outputs": [],
   "source": [
    "def get_B(X, Y):\n",
    "    return matmul(Y, matmul(X, getMatrixInverse(matmul(transposeMatrix(X), X))))\n",
    "\n",
    "def get_y_pred(X, Y):\n",
    "    return matmul(, get_B(X, Y))"
   ]
  },
  {
   "cell_type": "code",
   "execution_count": 185,
   "metadata": {},
   "outputs": [],
   "source": [
    "results = matmul(unknown_dat, transposeMatrix(get_B(X, Y)))"
   ]
  },
  {
   "cell_type": "code",
   "execution_count": 187,
   "metadata": {},
   "outputs": [
    {
     "name": "stdout",
     "output_type": "stream",
     "text": [
      "104.93265810074227\n",
      "142.79391673969565\n",
      "132.94167148652272\n",
      "129.43995996815104\n"
     ]
    }
   ],
   "source": [
    "for result in results:\n",
    "    print(result[0])"
   ]
  }
 ],
 "metadata": {
  "kernelspec": {
   "display_name": "Python 3",
   "language": "python",
   "name": "python3"
  },
  "language_info": {
   "codemirror_mode": {
    "name": "ipython",
    "version": 3
   },
   "file_extension": ".py",
   "mimetype": "text/x-python",
   "name": "python",
   "nbconvert_exporter": "python",
   "pygments_lexer": "ipython3",
   "version": "3.6.7"
  }
 },
 "nbformat": 4,
 "nbformat_minor": 2
}
