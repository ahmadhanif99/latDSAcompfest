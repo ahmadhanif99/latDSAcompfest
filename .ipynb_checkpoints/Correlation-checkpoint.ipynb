{
 "cells": [
  {
   "cell_type": "code",
   "execution_count": 59,
   "metadata": {},
   "outputs": [],
   "source": [
    "del x\n",
    "del y"
   ]
  },
  {
   "cell_type": "code",
   "execution_count": 70,
   "metadata": {},
   "outputs": [],
   "source": [
    "import numpy as np\n",
    "def pearsoncorrcoef(x, y):\n",
    "    assert len(x) == len(y)\n",
    "    x = np.array(x)\n",
    "    y = np.array(y)\n",
    "    n = len(x)\n",
    "    sum_x = (x-np.mean(x))\n",
    "    sum_x2 = (x-np.mean(x))**2\n",
    "    sum_y = (y-np.mean(y))\n",
    "    sum_y2 = (y-np.mean(y))**2\n",
    "    numerator = np.sum(sum_x*sum_y)\n",
    "    denumerator = (np.sum(sum_x2)*np.sum(sum_y2))**0.5\n",
    "    return numerator/(denumerator)"
   ]
  },
  {
   "cell_type": "code",
   "execution_count": 46,
   "metadata": {
    "scrolled": true
   },
   "outputs": [
    {
     "name": "stdout",
     "output_type": "stream",
     "text": [
      "Number of row :\n",
      "20\n",
      "73 72 76\n",
      "48 67 76\n",
      "95 92 95\n",
      "95 95 96\n",
      "33 59 79\n",
      "47 58 74\n",
      "98 95 97\n",
      "91 94 97\n",
      "95 84 90\n",
      "93 83 90\n",
      "70 70 78\n",
      "85 79 91\n",
      "33 67 76\n",
      "47 73 90\n",
      "95 87 95\n",
      "84 86 95\n",
      "43 63 75\n",
      "95 92 100\n",
      "54 80 87\n",
      "72 76 90\n"
     ]
    }
   ],
   "source": [
    "print(\"Number of row :\")\n",
    "N = int(input())\n",
    "dat = [[0]*3 for _ in range(N)]\n",
    "\n",
    "for i in range(N):\n",
    "    x, y, z = map(int, input().split())\n",
    "    dat[i] = x, y, z"
   ]
  },
  {
   "cell_type": "code",
   "execution_count": 52,
   "metadata": {},
   "outputs": [],
   "source": [
    "M =[x[0] for x in dat]\n",
    "P = [x[1] for x in dat]\n",
    "C = [x[2] for x in dat]"
   ]
  },
  {
   "cell_type": "code",
   "execution_count": 55,
   "metadata": {},
   "outputs": [
    {
     "data": {
      "text/plain": [
       "[72,\n",
       " 67,\n",
       " 92,\n",
       " 95,\n",
       " 59,\n",
       " 58,\n",
       " 95,\n",
       " 94,\n",
       " 84,\n",
       " 83,\n",
       " 70,\n",
       " 79,\n",
       " 67,\n",
       " 73,\n",
       " 87,\n",
       " 86,\n",
       " 63,\n",
       " 92,\n",
       " 80,\n",
       " 76]"
      ]
     },
     "execution_count": 55,
     "metadata": {},
     "output_type": "execute_result"
    }
   ],
   "source": [
    "P"
   ]
  },
  {
   "cell_type": "code",
   "execution_count": 76,
   "metadata": {},
   "outputs": [
    {
     "name": "stdout",
     "output_type": "stream",
     "text": [
      "0.8893389092388307\n",
      "0.9238761802006056\n",
      "0.807027216905996\n"
     ]
    }
   ],
   "source": [
    "print(pearsoncorrcoef(P, M))\n",
    "print(pearsoncorrcoef(P, C))\n",
    "print(pearsoncorrcoef(C, M))"
   ]
  },
  {
   "cell_type": "code",
   "execution_count": null,
   "metadata": {},
   "outputs": [],
   "source": []
  }
 ],
 "metadata": {
  "kernelspec": {
   "display_name": "Python 3",
   "language": "python",
   "name": "python3"
  },
  "language_info": {
   "codemirror_mode": {
    "name": "ipython",
    "version": 3
   },
   "file_extension": ".py",
   "mimetype": "text/x-python",
   "name": "python",
   "nbconvert_exporter": "python",
   "pygments_lexer": "ipython3",
   "version": "3.6.7"
  }
 },
 "nbformat": 4,
 "nbformat_minor": 2
}
