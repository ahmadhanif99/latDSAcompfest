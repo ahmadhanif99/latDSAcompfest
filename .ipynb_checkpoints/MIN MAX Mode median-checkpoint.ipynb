{
 "cells": [
  {
   "cell_type": "code",
   "execution_count": 1,
   "metadata": {},
   "outputs": [],
   "source": [
    "from collections import Counter\n",
    "\n",
    "def median(kotak):\n",
    "    kotakurut = sorted(kotak)\n",
    "    banyakanggota = len(kotak)\n",
    "    index = (banyakanggota -1)//2\n",
    "    if (banyakanggota % 2 != 0):\n",
    "        return kotakurut[index]\n",
    "    else:\n",
    "        return (kotakurut[index+1]+kotakurut[index])/2.0\n",
    "    \n",
    "def mean(kotak):\n",
    "    n = len(kotak)\n",
    "    total = 0\n",
    "    for i in range(n):\n",
    "        total += kotak[i]\n",
    "    return float(total/n)\n",
    "\n",
    "def maximum(kotak):\n",
    "    return max(kotak)\n",
    "\n",
    "def minimum(kotak):\n",
    "    return min(kotak)\n",
    "\n",
    "def mode(L):\n",
    "    counter = Counter(L)\n",
    "    max_count = max(counter.values())\n",
    "    return [item for item, count in counter.items() if count == max_count]"
   ]
  },
  {
   "cell_type": "code",
   "execution_count": 8,
   "metadata": {},
   "outputs": [
    {
     "name": "stdout",
     "output_type": "stream",
     "text": [
      "How much points?\n",
      "4\n",
      "1\n",
      "2\n",
      "3\n",
      "4\n"
     ]
    }
   ],
   "source": [
    "print(\"How much points?\")\n",
    "n = int(input())\n",
    "kotak = [0]*n\n",
    "for i in range(n):\n",
    "    kotak[i] = float(input())"
   ]
  },
  {
   "cell_type": "code",
   "execution_count": 14,
   "metadata": {},
   "outputs": [
    {
     "name": "stdout",
     "output_type": "stream",
     "text": [
      "Median :\n",
      "2.0\n",
      "Mean :\n",
      "2.5\n",
      "Max :\n",
      "4.0\n",
      "Min :\n",
      "1.0\n",
      "Mode :\n",
      "[1.0, 2.0, 3.0, 4.0]\n"
     ]
    }
   ],
   "source": [
    "print(\"Median :\")\n",
    "print(median(kotak))\n",
    "print(\"Mean :\")\n",
    "print(mean(kotak))\n",
    "print(\"Max :\")\n",
    "print(maximum(kotak))\n",
    "print(\"Min :\")\n",
    "print(minimum(kotak))\n",
    "print(\"Mode :\")\n",
    "print(mode(kotak))"
   ]
  },
  {
   "cell_type": "code",
   "execution_count": null,
   "metadata": {},
   "outputs": [],
   "source": []
  },
  {
   "cell_type": "code",
   "execution_count": 4,
   "metadata": {},
   "outputs": [
    {
     "data": {
      "text/plain": [
       "2"
      ]
     },
     "execution_count": 4,
     "metadata": {},
     "output_type": "execute_result"
    }
   ],
   "source": [
    "5//2"
   ]
  }
 ],
 "metadata": {
  "kernelspec": {
   "display_name": "Python 3",
   "language": "python",
   "name": "python3"
  },
  "language_info": {
   "codemirror_mode": {
    "name": "ipython",
    "version": 3
   },
   "file_extension": ".py",
   "mimetype": "text/x-python",
   "name": "python",
   "nbconvert_exporter": "python",
   "pygments_lexer": "ipython3",
   "version": "3.6.7"
  }
 },
 "nbformat": 4,
 "nbformat_minor": 2
}
