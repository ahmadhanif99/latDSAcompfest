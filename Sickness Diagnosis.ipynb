{
 "cells": [
  {
   "cell_type": "code",
   "execution_count": 10,
   "metadata": {},
   "outputs": [],
   "source": [
    "def bayes_rules(p_k_s, p_s, p_k_ns):\n",
    "    return round(((p_k_s*p_s)/(p_k_s*p_s+p_k_ns*(1-p_s)))*100)"
   ]
  },
  {
   "cell_type": "code",
   "execution_count": 14,
   "metadata": {},
   "outputs": [
    {
     "name": "stdout",
     "output_type": "stream",
     "text": [
      "How many line?: \n",
      "2\n",
      "1 90 0\n",
      "3 0 100\n"
     ]
    }
   ],
   "source": [
    "print(\"How many line?: \")\n",
    "line = int(input())\n",
    "\n",
    "store = [[0]*3 for _ in range(line)]\n",
    "for i in range(line):\n",
    "    p, q, r = map(int, input().split())\n",
    "    store[i] = p, q, r"
   ]
  },
  {
   "cell_type": "code",
   "execution_count": 19,
   "metadata": {},
   "outputs": [
    {
     "name": "stdout",
     "output_type": "stream",
     "text": [
      "The result\n",
      "100\n",
      "0\n"
     ]
    }
   ],
   "source": [
    "print(\"The result\")\n",
    "for i in range(line):\n",
    "    print(bayes_rules(p_s=store[i][0], p_k_s=store[i][1], p_k_ns=store[i][2]))"
   ]
  }
 ],
 "metadata": {
  "kernelspec": {
   "display_name": "Python 3",
   "language": "python",
   "name": "python3"
  },
  "language_info": {
   "codemirror_mode": {
    "name": "ipython",
    "version": 3
   },
   "file_extension": ".py",
   "mimetype": "text/x-python",
   "name": "python",
   "nbconvert_exporter": "python",
   "pygments_lexer": "ipython3",
   "version": "3.6.7"
  }
 },
 "nbformat": 4,
 "nbformat_minor": 2
}
