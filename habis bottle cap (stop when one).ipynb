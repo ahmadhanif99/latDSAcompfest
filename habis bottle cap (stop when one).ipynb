{
 "cells": [
  {
   "cell_type": "code",
   "execution_count": 6,
   "metadata": {},
   "outputs": [
    {
     "name": "stdout",
     "output_type": "stream",
     "text": [
      "6\n",
      "1\n",
      "2\n",
      "3\n",
      "4\n",
      "5\n",
      "6\n",
      "\n",
      "\n",
      "0\n",
      "1\n",
      "7\n",
      "2\n",
      "5\n",
      "8\n"
     ]
    }
   ],
   "source": [
    "n = int(input())\n",
    "z = []\n",
    "for i in range(n):\n",
    "    x = int(input())\n",
    "    z.append(x)\n",
    "\n",
    "print(\"\\n\")\n",
    "for i in z:\n",
    "    counter = 0\n",
    "    while(i != 1):\n",
    "        if i % 2 == 0:\n",
    "            i /= 2\n",
    "        elif (i %2 != 0) &(i != 1):\n",
    "            i = i*3 +1\n",
    "        counter += 1\n",
    "    print(counter)"
   ]
  }
 ],
 "metadata": {
  "kernelspec": {
   "display_name": "Python 3",
   "language": "python",
   "name": "python3"
  },
  "language_info": {
   "codemirror_mode": {
    "name": "ipython",
    "version": 3
   },
   "file_extension": ".py",
   "mimetype": "text/x-python",
   "name": "python",
   "nbconvert_exporter": "python",
   "pygments_lexer": "ipython3",
   "version": "3.6.7"
  }
 },
 "nbformat": 4,
 "nbformat_minor": 2
}
