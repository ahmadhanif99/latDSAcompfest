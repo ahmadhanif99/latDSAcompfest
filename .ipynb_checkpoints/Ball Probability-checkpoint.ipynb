{
 "cells": [
  {
   "cell_type": "code",
   "execution_count": 34,
   "metadata": {},
   "outputs": [],
   "source": [
    "def factorial(n):\n",
    "    if n==0:\n",
    "        return 1\n",
    "    return n*factorial(n-1)\n",
    "\n",
    "def combinatoric(x, y):\n",
    "    try:\n",
    "        assert x>=y\n",
    "        return factorial(x)/(factorial(x-y)*factorial(y))\n",
    "    except AssertionError:\n",
    "        print(\"ERROR: x should be higher than y\")\n"
   ]
  },
  {
   "cell_type": "code",
   "execution_count": 48,
   "metadata": {},
   "outputs": [],
   "source": [
    "def probanblue(x,y,n,z):\n",
    "    return int(100*(combinatoric(x, z)*combinatoric(y, n-z))/combinatoric(x+y, n))"
   ]
  },
  {
   "cell_type": "code",
   "execution_count": 51,
   "metadata": {},
   "outputs": [
    {
     "name": "stdout",
     "output_type": "stream",
     "text": [
      "How many lines?\n",
      "6\n",
      "2 5 2 1\n",
      "5 13 7 2\n",
      "7 19 18 5\n",
      "6 18 14 6\n",
      "7 17 9 7\n",
      "6 18 24 6\n"
     ]
    }
   ],
   "source": [
    "print(\"How many lines?\")\n",
    "line = int(input())\n",
    "store = [[0]*4 for _ in range(line)]\n",
    "for i in range(line):\n",
    "    x, y, n, z = map(int, input().split())\n",
    "    store[i] = x, y, n, z"
   ]
  },
  {
   "cell_type": "code",
   "execution_count": 54,
   "metadata": {},
   "outputs": [
    {
     "name": "stdout",
     "output_type": "stream",
     "text": [
      "The result\n",
      "47\n",
      "40\n",
      "36\n",
      "2\n",
      "0\n",
      "100\n"
     ]
    }
   ],
   "source": [
    "print(\"The result\")\n",
    "for i in range(line):\n",
    "    print(probanblue(store[i][0], store[i][1], store[i][2], store[i][3]))"
   ]
  },
  {
   "cell_type": "code",
   "execution_count": null,
   "metadata": {},
   "outputs": [],
   "source": []
  }
 ],
 "metadata": {
  "kernelspec": {
   "display_name": "Python 3",
   "language": "python",
   "name": "python3"
  },
  "language_info": {
   "codemirror_mode": {
    "name": "ipython",
    "version": 3
   },
   "file_extension": ".py",
   "mimetype": "text/x-python",
   "name": "python",
   "nbconvert_exporter": "python",
   "pygments_lexer": "ipython3",
   "version": "3.6.7"
  }
 },
 "nbformat": 4,
 "nbformat_minor": 2
}
