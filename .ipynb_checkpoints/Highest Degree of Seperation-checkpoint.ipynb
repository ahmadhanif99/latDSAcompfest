{
 "cells": [
  {
   "cell_type": "code",
   "execution_count": 163,
   "metadata": {},
   "outputs": [],
   "source": [
    "import queue  \n",
    "from collections import defaultdict \n",
    "# function for finding minimum  \n",
    "# no. of edge using BFS  \n",
    "def minEdgeBFS(edges, u, v, n): \n",
    "      \n",
    "    # visited[n] for keeping track  \n",
    "    # of visited node in BFS  \n",
    "    visited = [0] * n  \n",
    "  \n",
    "    # Initialize distances as 0  \n",
    "    distance = [0] * n \n",
    "  \n",
    "    # queue to do BFS.  \n",
    "    Q = queue.Queue() \n",
    "    distance[u] = 0\n",
    "  \n",
    "    Q.put(u)  \n",
    "    visited[u] = True\n",
    "    while (not Q.empty()): \n",
    "        x = Q.get()  \n",
    "          \n",
    "        for i in range(len(edges[x])): \n",
    "            if (visited[edges[x][i]]): \n",
    "                continue\n",
    "  \n",
    "            # update distance for i  \n",
    "            distance[edges[x][i]] = distance[x] + 1\n",
    "            Q.put(edges[x][i])  \n",
    "            visited[edges[x][i]] = 1\n",
    "    return distance[v] \n",
    "\n",
    "# function for addition of edge  \n",
    "def addEdge(edges, u, v): \n",
    "    \n",
    "    edges[u].append(v)  \n",
    "    edges[v].append(u) "
   ]
  },
  {
   "cell_type": "code",
   "execution_count": 193,
   "metadata": {},
   "outputs": [
    {
     "name": "stdout",
     "output_type": "stream",
     "text": [
      "Number of lines : \n",
      "10\n",
      "10 9\n",
      "1 2\n",
      "2 3\n",
      "3 4\n",
      "4 5\n",
      "5 6\n",
      "6 7\n",
      "7 8\n",
      "8 9\n",
      "9 10\n"
     ]
    }
   ],
   "source": [
    "edges =  defaultdict(list)\n",
    "print(\"Number of lines : \")\n",
    "n1 = int(input())\n",
    "for i in range(n1):\n",
    "    x, y = map(int, input().split())\n",
    "    addEdge(edges, x, y)"
   ]
  },
  {
   "cell_type": "code",
   "execution_count": 195,
   "metadata": {},
   "outputs": [
    {
     "name": "stdout",
     "output_type": "stream",
     "text": [
      "9\n"
     ]
    }
   ],
   "source": [
    "n = max(edges.keys())+1\n",
    "x = []\n",
    "for key1 in edges.keys():\n",
    "    for key2 in edges.keys():\n",
    "           x.append(minEdgeBFS(edges, key1, key2, n))\n",
    "print(max(x))"
   ]
  }
 ],
 "metadata": {
  "kernelspec": {
   "display_name": "Python 3",
   "language": "python",
   "name": "python3"
  },
  "language_info": {
   "codemirror_mode": {
    "name": "ipython",
    "version": 3
   },
   "file_extension": ".py",
   "mimetype": "text/x-python",
   "name": "python",
   "nbconvert_exporter": "python",
   "pygments_lexer": "ipython3",
   "version": "3.6.7"
  }
 },
 "nbformat": 4,
 "nbformat_minor": 2
}
