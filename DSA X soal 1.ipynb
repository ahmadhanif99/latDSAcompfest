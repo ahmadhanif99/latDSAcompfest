{
 "cells": [
  {
   "cell_type": "code",
   "execution_count": null,
   "metadata": {},
   "outputs": [],
   "source": [
    "lis = []\n",
    "\n",
    "#terima input 2 int, N dan M\n",
    "tup = tuple(map(int, input().split()))[:2]\n",
    "\n",
    "#input bunch of int Ks\n",
    "for _ in range(tup[0]):\n",
    "    i = int(input())\n",
    "    \n",
    "    #sortir dari awal kalo int k ga mungkin menghasilkan M\n",
    "    if not (i>tup[1]):\n",
    "        lis.append(i)\n",
    "lis.sort()\n",
    "\n",
    "pair=0\n",
    "i=1\n",
    "\n",
    "#iterasi cek kalo jumlahnya bisa sama\n",
    "for _ in lis:\n",
    "    while True:\n",
    "        if _+lis[-1]>tup[1]:\n",
    "            lis.pop()\n",
    "        elif _+lis[-1]==tup[1]:\n",
    "            if not len(lis)==i:\n",
    "                pair+=1\n",
    "                lis.pop()\n",
    "            break\n",
    "        else:\n",
    "            \n",
    "            break\n",
    "    i+=1\n",
    "print(pair)"
   ]
  },
  {
   "cell_type": "code",
   "execution_count": 3,
   "metadata": {},
   "outputs": [],
   "source": []
  },
  {
   "cell_type": "code",
   "execution_count": 4,
   "metadata": {},
   "outputs": [
    {
     "ename": "IndexError",
     "evalue": "pop from empty list",
     "output_type": "error",
     "traceback": [
      "\u001b[1;31m---------------------------------------------------------------------------\u001b[0m",
      "\u001b[1;31mIndexError\u001b[0m                                Traceback (most recent call last)",
      "\u001b[1;32m<ipython-input-4-9c070c907602>\u001b[0m in \u001b[0;36m<module>\u001b[1;34m\u001b[0m\n\u001b[1;32m----> 1\u001b[1;33m \u001b[0ma\u001b[0m\u001b[1;33m.\u001b[0m\u001b[0mpop\u001b[0m\u001b[1;33m(\u001b[0m\u001b[1;33m)\u001b[0m\u001b[1;33m\u001b[0m\u001b[1;33m\u001b[0m\u001b[0m\n\u001b[0m",
      "\u001b[1;31mIndexError\u001b[0m: pop from empty list"
     ]
    }
   ],
   "source": []
  },
  {
   "cell_type": "code",
   "execution_count": null,
   "metadata": {},
   "outputs": [],
   "source": []
  }
 ],
 "metadata": {
  "kernelspec": {
   "display_name": "Python 3",
   "language": "python",
   "name": "python3"
  },
  "language_info": {
   "codemirror_mode": {
    "name": "ipython",
    "version": 3
   },
   "file_extension": ".py",
   "mimetype": "text/x-python",
   "name": "python",
   "nbconvert_exporter": "python",
   "pygments_lexer": "ipython3",
   "version": "3.7.3"
  }
 },
 "nbformat": 4,
 "nbformat_minor": 2
}
